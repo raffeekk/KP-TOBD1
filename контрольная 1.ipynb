{
  "nbformat": 4,
  "nbformat_minor": 0,
  "metadata": {
    "colab": {
      "provenance": []
    },
    "kernelspec": {
      "name": "python3",
      "display_name": "Python 3"
    },
    "language_info": {
      "name": "python"
    }
  },
  "cells": [
    {
      "cell_type": "markdown",
      "source": [
        "Контрольная работа №1\n",
        "\n",
        "Каждая задача решается в отдельном ноутбуке, код должен содержать комментарии, объясняющие вычисления."
      ],
      "metadata": {
        "id": "8nGAsEQeE3jI"
      }
    },
    {
      "cell_type": "code",
      "execution_count": null,
      "metadata": {
        "id": "dcEenJZqRfO5"
      },
      "outputs": [],
      "source": []
    },
    {
      "cell_type": "markdown",
      "source": [
        "В файле 'jena_climate_2009_2016.csv' климатические данные. Примените преобразование Фурье к данным. Оставьте периодическую составлющую, если она доминирует в динамике признака, удалите высокие частоты. Постройте график спектра плотности, временного ряда до преобразований, после."
      ],
      "metadata": {
        "id": "A8NmH58xR4Hi"
      }
    },
    {
      "cell_type": "code",
      "source": [],
      "metadata": {
        "id": "3fZ5x-owOXv1"
      },
      "execution_count": null,
      "outputs": []
    },
    {
      "cell_type": "markdown",
      "source": [
        "В файле diabetes_dataset.csv - данные по пациентам с диабетом и без (столбец diagnosed_diabetes). Преобразуйте категориальные данные в числовые или удалите их. Подготовьте данные к решению задачи классификации, применив метод главных компонент. Выведите на диаграмму первые 2 главные компоненты, точки разных цветом - для пациентов с диабетом и без."
      ],
      "metadata": {
        "id": "wloLACUcGNxF"
      }
    },
    {
      "cell_type": "code",
      "source": [],
      "metadata": {
        "id": "1GlKy38FOYGD"
      },
      "execution_count": null,
      "outputs": []
    },
    {
      "cell_type": "markdown",
      "source": [
        "Сожмите изображение в файле image1.jpg, используя\n",
        "\n",
        "а) быстрое преобразования Фурье\n",
        "\n",
        "б) сингулярное разложение\n",
        "\n",
        "Вычислите среднее время выполнения алгоритма, укажите объем сжатых данных. Выведите график сингулярных значений, спектра мощности.\n",
        "\n"
      ],
      "metadata": {
        "id": "QS4Zk3wNJ11N"
      }
    },
    {
      "cell_type": "code",
      "source": [],
      "metadata": {
        "id": "3UHsxnqmJekG"
      },
      "execution_count": null,
      "outputs": []
    }
  ]
}