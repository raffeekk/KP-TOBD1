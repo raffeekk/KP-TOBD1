{
  "nbformat": 4,
  "nbformat_minor": 0,
  "metadata": {
    "colab": {
      "provenance": []
    },
    "kernelspec": {
      "name": "python3",
      "display_name": "Python 3"
    },
    "language_info": {
      "name": "python"
    }
  },
  "cells": [
    {
      "cell_type": "markdown",
      "metadata": {},
      "source": [
        "# Контрольная работа №1\n",
        "\n",
        "Каждая задача решается в отдельном ноутбуке, код должен содержать комментарии, объясняющие вычисления.\n",
        "Здесь данные читаются напрямую с GitHub (через ссылки)."
      ]
    },
    {
      "cell_type": "code",
      "metadata": {},
      "source": [
        "# Ссылки на исходные данные\n",
        "url_climate = \"https://raw.githubusercontent.com/raffeekk/KP-TOBD1/refs/heads/main/jena_climate_2009_2016.csv\"\n",
        "url_diabetes = \"https://raw.githubusercontent.com/raffeekk/KP-TOBD1/refs/heads/main/diabetes_dataset%20(1).csv\"\n",
        "url_image = \"https://raw.githubusercontent.com/raffeekk/KP-TOBD1/refs/heads/main/image1%20(1).jpeg\""
      ]
    },
    {
      "cell_type": "markdown",
      "source": [
        "## Задание 1 — Преобразование Фурье для климатических данных"
      ],
      "metadata": {}
    },
    {
      "cell_type": "code",
      "metadata": {},
      "source": [
        "import pandas as pd\n",
        "import numpy as np\n",
        "import matplotlib.pyplot as plt\n",
        "from scipy.fft import fft, ifft, fftfreq\n",
        "\n",
        "# Читаем данные напрямую по ссылке\n",
        "df = pd.read_csv(url_climate)\n",
        "series = df['T (degC)'].values[:5000]  # для примера возьмём первые 5000 точек\n",
        "\n",
        "# Применяем БПФ (FFT)\n",
        "yf = fft(series)\n",
        "xf = fftfreq(len(series), 1)\n",
        "\n",
        "# Фильтруем высокие частоты\n",
        "cutoff = int(len(yf) * 0.05)\n",
        "yf_filtered = np.copy(yf)\n",
        "yf_filtered[cutoff:-cutoff] = 0\n",
        "series_filtered = np.real(ifft(yf_filtered))\n",
        "\n",
        "# Графики\n",
        "plt.figure(figsize=(12,5))\n",
        "plt.subplot(1,2,1)\n",
        "plt.plot(np.abs(yf))\n",
        "plt.title('Спектр плотности мощности')\n",
        "plt.subplot(1,2,2)\n",
        "plt.plot(series, label='Исходный')\n",
        "plt.plot(series_filtered, label='После фильтрации')\n",
        "plt.legend()\n",
        "plt.title('Временные ряды')\n",
        "plt.show()"
      ]
    },
    {
      "cell_type": "markdown",
      "source": [
        "## Задание 2 — PCA для данных о диабете"
      ],
      "metadata": {}
    },
    {
      "cell_type": "code",
      "metadata": {},
      "source": [
        "from sklearn.preprocessing import LabelEncoder, StandardScaler\n",
        "from sklearn.decomposition import PCA\n",
        "\n",
        "df = pd.read_csv(url_diabetes)\n",
        "\n",
        "# Кодируем категориальные данные\n",
        "for col in df.select_dtypes(include=['object']).columns:\n",
        "    df[col] = LabelEncoder().fit_transform(df[col].astype(str))\n",
        "\n",
        "# Разделяем признаки и метку\n",
        "X = df.drop(columns=['diagnosed_diabetes'])\n",
        "y = df['diagnosed_diabetes']\n",
        "\n",
        "# Масштабирование и PCA\n",
        "X_scaled = StandardScaler().fit_transform(X)\n",
        "pca = PCA(n_components=2)\n",
        "components = pca.fit_transform(X_scaled)\n",
        "\n",
        "# График PCA\n",
        "plt.figure(figsize=(7,6))\n",
        "plt.scatter(components[:,0], components[:,1], c=y, cmap='coolwarm', alpha=0.7)\n",
        "plt.title('PCA — первые 2 главные компоненты')\n",
        "plt.xlabel('PC1')\n",
        "plt.ylabel('PC2')\n",
        "plt.show()"
      ]
    },
    {
      "cell_type": "markdown",
      "source": [
        "## Задание 3 — Сжатие изображения (FFT и SVD)"
      ],
      "metadata": {}
    },
    {
      "cell_type": "code",
      "metadata": {},
      "source": [
        "import time\n",
        "from numpy.linalg import svd\n",
        "\n",
        "# Загружаем изображение напрямую по ссылке\n",
        "image = plt.imread(url_image)\n",
        "if image.ndim == 3:\n",
        "    img_gray = np.mean(image, axis=2)\n",
        "else:\n",
        "    img_gray = image\n",
        "\n",
        "# === FFT Compression ===\n",
        "start = time.time()\n",
        "f_transform = fft(fft(img_gray, axis=0), axis=1)\n",
        "keep = int(0.1 * f_transform.shape[0])\n",
        "f_filtered = np.copy(f_transform)\n",
        "f_filtered[keep:-keep,:] = 0\n",
        "compressed_fft = np.real(ifft(ifft(f_filtered, axis=0), axis=1))\n",
        "fft_time = time.time() - start\n",
        "\n",
        "# === SVD Compression ===\n",
        "start = time.time()\n",
        "U, S, Vt = svd(img_gray, full_matrices=False)\n",
        "k = 50\n",
        "compressed_svd = np.dot(U[:,:k], np.dot(np.diag(S[:k]), Vt[:k,:]))\n",
        "svd_time = time.time() - start\n",
        "\n",
        "# Графики результатов\n",
        "plt.figure(figsize=(14,5))\n",
        "plt.subplot(1,3,1)\n",
        "plt.imshow(img_gray, cmap='gray')\n",
        "plt.title('Исходное')\n",
        "plt.axis('off')\n",
        "plt.subplot(1,3,2)\n",
        "plt.imshow(compressed_fft, cmap='gray')\n",
        "plt.title(f'FFT (t={fft_time:.2f}s)')\n",
        "plt.axis('off')\n",
        "plt.subplot(1,3,3)\n",
        "plt.imshow(compressed_svd, cmap='gray')\n",
        "plt.title(f'SVD (t={svd_time:.2f}s)')\n",
        "plt.axis('off')\n",
        "plt.show()\n",
        "\n",
        "# Спектр и сингулярные значения\n",
        "plt.figure(figsize=(10,4))\n",
        "plt.subplot(1,2,1)\n",
        "plt.plot(np.log1p(np.abs(f_transform)).mean(axis=0))\n",
        "plt.title('Спектр мощности')\n",
        "plt.subplot(1,2,2)\n",
        "plt.plot(S)\n",
        "plt.title('Сингулярные значения')\n",
        "plt.show()"
      ]
    }
  ]
}